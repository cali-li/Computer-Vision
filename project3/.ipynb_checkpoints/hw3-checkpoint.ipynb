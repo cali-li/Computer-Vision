{
 "cells": [
  {
   "cell_type": "code",
   "execution_count": 1,
   "metadata": {},
   "outputs": [
    {
     "ename": "FileNotFoundError",
     "evalue": "[Errno 2] No such file or directory: 'hw_3.zip'",
     "output_type": "error",
     "traceback": [
      "\u001b[1;31m---------------------------------------------------------------------------\u001b[0m",
      "\u001b[1;31mFileNotFoundError\u001b[0m                         Traceback (most recent call last)",
      "\u001b[1;32m<ipython-input-1-b6a8473cfff7>\u001b[0m in \u001b[0;36m<module>\u001b[1;34m\u001b[0m\n\u001b[0;32m      1\u001b[0m \u001b[1;32mimport\u001b[0m \u001b[0mzipfile\u001b[0m\u001b[1;33m\u001b[0m\u001b[1;33m\u001b[0m\u001b[0m\n\u001b[1;32m----> 2\u001b[1;33m \u001b[1;32mwith\u001b[0m \u001b[0mzipfile\u001b[0m\u001b[1;33m.\u001b[0m\u001b[0mZipFile\u001b[0m\u001b[1;33m(\u001b[0m\u001b[1;34m'hw_3.zip'\u001b[0m\u001b[1;33m,\u001b[0m \u001b[1;34m'r'\u001b[0m\u001b[1;33m)\u001b[0m \u001b[1;32mas\u001b[0m \u001b[0mzip_ref\u001b[0m\u001b[1;33m:\u001b[0m\u001b[1;33m\u001b[0m\u001b[1;33m\u001b[0m\u001b[0m\n\u001b[0m\u001b[0;32m      3\u001b[0m     \u001b[0mzip_ref\u001b[0m\u001b[1;33m.\u001b[0m\u001b[0mextractall\u001b[0m\u001b[1;33m(\u001b[0m\u001b[1;33m)\u001b[0m\u001b[1;33m\u001b[0m\u001b[1;33m\u001b[0m\u001b[0m\n",
      "\u001b[1;32m~\\AppData\\Local\\Continuum\\anaconda3\\lib\\zipfile.py\u001b[0m in \u001b[0;36m__init__\u001b[1;34m(self, file, mode, compression, allowZip64, compresslevel)\u001b[0m\n\u001b[0;32m   1202\u001b[0m             \u001b[1;32mwhile\u001b[0m \u001b[1;32mTrue\u001b[0m\u001b[1;33m:\u001b[0m\u001b[1;33m\u001b[0m\u001b[1;33m\u001b[0m\u001b[0m\n\u001b[0;32m   1203\u001b[0m                 \u001b[1;32mtry\u001b[0m\u001b[1;33m:\u001b[0m\u001b[1;33m\u001b[0m\u001b[1;33m\u001b[0m\u001b[0m\n\u001b[1;32m-> 1204\u001b[1;33m                     \u001b[0mself\u001b[0m\u001b[1;33m.\u001b[0m\u001b[0mfp\u001b[0m \u001b[1;33m=\u001b[0m \u001b[0mio\u001b[0m\u001b[1;33m.\u001b[0m\u001b[0mopen\u001b[0m\u001b[1;33m(\u001b[0m\u001b[0mfile\u001b[0m\u001b[1;33m,\u001b[0m \u001b[0mfilemode\u001b[0m\u001b[1;33m)\u001b[0m\u001b[1;33m\u001b[0m\u001b[1;33m\u001b[0m\u001b[0m\n\u001b[0m\u001b[0;32m   1205\u001b[0m                 \u001b[1;32mexcept\u001b[0m \u001b[0mOSError\u001b[0m\u001b[1;33m:\u001b[0m\u001b[1;33m\u001b[0m\u001b[1;33m\u001b[0m\u001b[0m\n\u001b[0;32m   1206\u001b[0m                     \u001b[1;32mif\u001b[0m \u001b[0mfilemode\u001b[0m \u001b[1;32min\u001b[0m \u001b[0mmodeDict\u001b[0m\u001b[1;33m:\u001b[0m\u001b[1;33m\u001b[0m\u001b[1;33m\u001b[0m\u001b[0m\n",
      "\u001b[1;31mFileNotFoundError\u001b[0m: [Errno 2] No such file or directory: 'hw_3.zip'"
     ]
    }
   ],
   "source": [
    "import zipfile\n",
    "with zipfile.ZipFile('hw_3.zip', 'r') as zip_ref:\n",
    "    zip_ref.extractall()"
   ]
  },
  {
   "cell_type": "code",
   "execution_count": 2,
   "metadata": {},
   "outputs": [],
   "source": [
    "import numpy as np\n",
    "import matplotlib.pyplot as plt\n",
    "import imageio\n",
    "import cv2\n",
    "import numpy.linalg as linalg\n"
   ]
  },
  {
   "cell_type": "markdown",
   "metadata": {},
   "source": [
    "# FittingTransformations"
   ]
  },
  {
   "cell_type": "code",
   "execution_count": 13,
   "metadata": {},
   "outputs": [],
   "source": [
    "data = np.load('p1/transform.npy')\n",
    "# x = np.array([data[i][:2] for i in range(data.shape[0])])\n",
    "# y = np.array([data[i][2:] for i in range(data.shape[0])])"
   ]
  },
  {
   "cell_type": "code",
   "execution_count": 49,
   "metadata": {},
   "outputs": [],
   "source": [
    "I = np.ones(data.shape[0]).reshape((data.shape[0],1))\n",
    "u = 1/x.shape[0] * np.matmul(I.T,data)\n",
    "# compute the smallest eigenvector\n",
    "ata = np.matmul((data-np.matmul(I, u)).T, (data-np.matmul(I, u)))\n",
    "eigenValues, eigenVectors = linalg.eig(ata)\n",
    "idx = eigenValues.argsort()\n",
    "eigenValues = eigenValues[idx]\n",
    "eigenVector = eigenVectors[:,idx][0]\n",
    "# compute n and d\n",
    "n = eigenVectors[:,idx][:,0].reshape((1,4))\n",
    "d = np.matmul(n,u.T)"
   ]
  },
  {
   "cell_type": "code",
   "execution_count": 94,
   "metadata": {},
   "outputs": [
    {
     "data": {
      "text/plain": [
       "array([[-10.01344842],\n",
       "       [ -1.94371611],\n",
       "       [ -4.67581318],\n",
       "       [ -2.58751662],\n",
       "       [ 10.65883589],\n",
       "       [  1.61603561],\n",
       "       [ -3.88573887],\n",
       "       [ -0.33699174],\n",
       "       [  6.64874117],\n",
       "       [ -7.79063009],\n",
       "       [ -2.13326858],\n",
       "       [ -9.31672319],\n",
       "       [-14.43110905],\n",
       "       [  5.85457985],\n",
       "       [  1.22891971],\n",
       "       [  2.87911893],\n",
       "       [  0.93720938],\n",
       "       [ -6.59295875],\n",
       "       [ 10.46714666],\n",
       "       [ -1.0776044 ],\n",
       "       [ -8.99973157],\n",
       "       [  4.85570598],\n",
       "       [  3.71160223],\n",
       "       [  1.95002339],\n",
       "       [  9.02423258],\n",
       "       [ -6.7766133 ],\n",
       "       [-16.56083687],\n",
       "       [  5.84392017],\n",
       "       [ -5.13282901],\n",
       "       [-12.54926731],\n",
       "       [-13.04576016],\n",
       "       [  0.92321309],\n",
       "       [  6.15040897],\n",
       "       [  2.49379184],\n",
       "       [  5.26540899],\n",
       "       [-13.78710713],\n",
       "       [ -9.50186604],\n",
       "       [ -5.11740092],\n",
       "       [ -3.86879612],\n",
       "       [-12.760091  ],\n",
       "       [ -6.00810823],\n",
       "       [-11.67456369],\n",
       "       [ 12.70083948],\n",
       "       [  2.34195112],\n",
       "       [-14.90655185],\n",
       "       [ -8.06672013],\n",
       "       [ -9.25742336],\n",
       "       [-12.8973189 ],\n",
       "       [-10.47947786],\n",
       "       [  0.3776784 ]])"
      ]
     },
     "execution_count": 94,
     "metadata": {},
     "output_type": "execute_result"
    }
   ],
   "source": [
    "data[:,2].reshape((data.shape[0],1))#[:,None]"
   ]
  },
  {
   "cell_type": "code",
   "execution_count": 60,
   "metadata": {},
   "outputs": [],
   "source": []
  },
  {
   "cell_type": "code",
   "execution_count": 80,
   "metadata": {},
   "outputs": [],
   "source": [
    "\n"
   ]
  },
  {
   "cell_type": "code",
   "execution_count": 87,
   "metadata": {},
   "outputs": [],
   "source": []
  },
  {
   "cell_type": "code",
   "execution_count": 88,
   "metadata": {},
   "outputs": [
    {
     "data": {
      "text/plain": [
       "(1, 1)"
      ]
     },
     "execution_count": 88,
     "metadata": {},
     "output_type": "execute_result"
    }
   ],
   "source": []
  },
  {
   "cell_type": "code",
   "execution_count": 75,
   "metadata": {},
   "outputs": [
    {
     "data": {
      "text/plain": [
       "array([[ 0.90862767,  0.12201388,  0.32746256, -0.22864087],\n",
       "       [-0.33751967,  0.30395608,  0.88630814,  0.09027208],\n",
       "       [-0.14941212,  0.7704234 , -0.26400002, -0.56073861],\n",
       "       [ 0.19532602,  0.54696535, -0.19372696,  0.79066208]])"
      ]
     },
     "execution_count": 75,
     "metadata": {},
     "output_type": "execute_result"
    }
   ],
   "source": [
    "eigenVectors[:,idx]"
   ]
  },
  {
   "cell_type": "code",
   "execution_count": 37,
   "metadata": {},
   "outputs": [
    {
     "data": {
      "text/plain": [
       "50"
      ]
     },
     "execution_count": 37,
     "metadata": {},
     "output_type": "execute_result"
    }
   ],
   "source": [
    "d = u*n"
   ]
  }
 ],
 "metadata": {
  "kernelspec": {
   "display_name": "Python 3",
   "language": "python",
   "name": "python3"
  },
  "language_info": {
   "codemirror_mode": {
    "name": "ipython",
    "version": 3
   },
   "file_extension": ".py",
   "mimetype": "text/x-python",
   "name": "python",
   "nbconvert_exporter": "python",
   "pygments_lexer": "ipython3",
   "version": "3.7.3"
  }
 },
 "nbformat": 4,
 "nbformat_minor": 2
}
